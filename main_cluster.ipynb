{
 "cells": [
  {
   "cell_type": "code",
   "execution_count": null,
   "metadata": {},
   "outputs": [],
   "source": [
    "### IMPORTIERE PAKETE\n",
    "import numpy as np\n",
    "import pandas as pd\n",
    "import math\n",
    "import matplotlib.pyplot as plt\n",
    "from sklearn.cluster import AgglomerativeClustering, KMeans\n",
    "\n",
    "from loadmodelingfunctions import generate_loadprofile, build_example_year, visualize_typedays, mape_simulation\n",
    "import loaddata\n",
    "import clustertools as ct\n",
    "import dataprocessing as dp\n",
    "\n",
    "### AUTORELOAD\n",
    "%reload_ext autoreload\n",
    "%autoreload 2\n",
    "\n",
    "### LATEX-KOMPILIERUNG\n",
    "plt.rcParams.update({\n",
    "    \"text.usetex\": True,\n",
    "    \"font.family\": \"serif\",\n",
    "    \"font.size\": '16'\n",
    "})"
   ]
  },
  {
   "cell_type": "markdown",
   "metadata": {},
   "source": [
    "Daten importieren"
   ]
  },
  {
   "cell_type": "code",
   "execution_count": null,
   "metadata": {},
   "outputs": [],
   "source": [
    "stationen=loaddata.load_stations()\n",
    "display(stationen)\n",
    "list_power_d, list_power_yd, list_power_ysd, list_power_ymd, list_mat_power_d, list_power_ywd, list_power_yswd, list_power_only_d = loaddata.load_data_from_measurements([0,1,2,3,4,5,6,7,8], d=True, yd=True, ysd=True,ywd=True,yswd=True)"
   ]
  },
  {
   "cell_type": "markdown",
   "metadata": {},
   "source": [
    "Clusteranalyse"
   ]
  },
  {
   "cell_type": "code",
   "execution_count": null,
   "metadata": {},
   "outputs": [],
   "source": [
    "week_profiles = ct.build_winter_summer_week_profile(list_mat_power_d)\n",
    "export_plots = True\n",
    "\n",
    "### OPTIMALE ANZAHL\n",
    "\n",
    "ct.analyze_cluster_indicators(week_profiles,export_plots=export_plots)\n",
    "if export_plots:\n",
    "    plt.savefig('export/DBI_CDI.pdf',bbox_inches='tight')\n",
    "\n",
    "### HIERARCHISCHES CLUSTERN\n",
    "\n",
    "n_clusters = 5\n",
    "mymodel_opt = AgglomerativeClustering(n_clusters = n_clusters)\n",
    "mymodel_opt = mymodel_opt.fit(week_profiles)"
   ]
  },
  {
   "cell_type": "markdown",
   "metadata": {},
   "source": [
    "Lastprofile"
   ]
  },
  {
   "cell_type": "code",
   "execution_count": null,
   "metadata": {},
   "outputs": [],
   "source": [
    "cluster_names = ['SS-S','SS-W1','SS-W2','SS-W3','SS-W4']\n",
    "anzahl_cluster = len(cluster_names)\n",
    "label=mymodel_opt.labels_\n",
    "\n",
    "###Generiere Cluster-Daten\n",
    "\n",
    "all_powers_list = list()\n",
    "all_powers_list_years = list()\n",
    "\n",
    "for i in range(0,anzahl_cluster):\n",
    "    ind=np.zeros(0,int)\n",
    "    for j in range(0,9):\n",
    "        if label[j]==i:\n",
    "            ind=np.append(ind,j)\n",
    "    list_power = list_power_ysd[ind[0]][2018]\n",
    "    list_power_years = list_power_yd[ind[0]]\n",
    "    for j in ind[1:len(ind)]:\n",
    "        list_power = list_power + list_power_ysd[j][2018]\n",
    "        list_power_years = list_power_years + list_power_yd[j]\n",
    "    all_powers_list.insert(len(all_powers_list), list_power)\n",
    "    all_powers_list_years.insert(len(all_powers_list_years), list_power_years)"
   ]
  },
  {
   "cell_type": "code",
   "execution_count": null,
   "metadata": {},
   "outputs": [],
   "source": [
    "load_profiles_list = list()\n",
    "reg_polynoms_list = list()\n",
    "\n",
    "for i in range(0,n_clusters):\n",
    "    load_profiles, coeff_regression = generate_loadprofile(all_powers_list[i],all_powers_list_years[i],plots=False)\n",
    "    load_profiles_list.insert(len(load_profiles_list), load_profiles)\n",
    "    reg_polynoms_list.insert(len(reg_polynoms_list), coeff_regression)"
   ]
  }
 ],
 "metadata": {
  "kernelspec": {
   "display_name": "Python 3.9.12 ('base')",
   "language": "python",
   "name": "python3"
  },
  "language_info": {
   "codemirror_mode": {
    "name": "ipython",
    "version": 3
   },
   "file_extension": ".py",
   "mimetype": "text/x-python",
   "name": "python",
   "nbconvert_exporter": "python",
   "pygments_lexer": "ipython3",
   "version": "3.9.12"
  },
  "orig_nbformat": 4,
  "vscode": {
   "interpreter": {
    "hash": "ad2bdc8ecc057115af97d19610ffacc2b4e99fae6737bb82f5d7fb13d2f2c186"
   }
  }
 },
 "nbformat": 4,
 "nbformat_minor": 2
}
