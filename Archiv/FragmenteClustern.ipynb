{
 "cells": [
  {
   "cell_type": "code",
   "execution_count": null,
   "metadata": {},
   "outputs": [],
   "source": [
    "###VGL 4 und 5\n",
    "\n",
    "A=all_powers_list[4].loc[:,2].loc[:,0].mean(axis=1).to_numpy()\n",
    "B=all_powers_list[4].loc[:,2].loc[:,1].mean(axis=1).to_numpy()\n",
    "\n",
    "C=all_powers_list[2].loc[:,2].loc[:,0].mean(axis=1).to_numpy()\n",
    "D=all_powers_list[2].loc[:,2].loc[:,1].mean(axis=1).to_numpy()\n",
    "\n",
    "subfig, axs = plt.subplots(1,2,figsize=(14.4,4.8))\n",
    "axs[0].plot(A)\n",
    "axs[0].plot(B)\n",
    "axs[0].set_ylabel('Leistung [kW]')\n",
    "axs[0].set_xlabel('Zeit [h]')\n",
    "axs[0].set_xticks(np.arange(0,108, step=12),np.arange(0,25, step=3))\n",
    "axs[0].set_title('Summenlastgang Cluster 4')\n",
    "axs[0].grid()\n",
    "axs[0].legend(['Werktag','Samstag'])\n",
    "axs[1].plot(C)\n",
    "axs[1].plot(D)\n",
    "axs[1].set_ylabel('Leistung [kW]')\n",
    "axs[1].set_xlabel('Zeit [h]')\n",
    "axs[1].set_xticks(np.arange(0,108, step=12),np.arange(0,25, step=3))\n",
    "axs[1].set_title('Summenlastgang Cluster 5')\n",
    "axs[1].grid()\n",
    "axs[1].legend(['Werktag','Samstag'])\n",
    "\n",
    "plt.savefig('cluster_4_5_wochentag.pdf',bbox_inches='tight')"
   ]
  },
  {
   "cell_type": "markdown",
   "metadata": {},
   "source": [
    "Abbildung Variationskoeffizient"
   ]
  },
  {
   "cell_type": "code",
   "execution_count": null,
   "metadata": {},
   "outputs": [],
   "source": [
    "plt.rcParams.update({\n",
    "    \"text.usetex\": True,\n",
    "    \"font.family\": \"serif\",\n",
    "    \"font.size\": '16'\n",
    "})\n",
    "\n",
    "plt.figure(figsize=(10,6))\n",
    "for j in range(0,3):\n",
    "    this_vk=np.zeros(27)\n",
    "    for k in range(0,3):\n",
    "        for i in range(0,9):\n",
    "            this_vk[i+k*9]=vk_list[i][j,k]\n",
    "        if j == 0:\n",
    "            col='b'\n",
    "        if j == 1:\n",
    "            col='r'\n",
    "        if j == 2:\n",
    "            col='g'\n",
    "    plt.scatter([7,3,8,0,1,5,6,2,4,7,3,8,0,1,5,6,2,4,7,3,8,0,1,5,6,2,4],this_vk)\n",
    "plt.xticks(np.linspace(0,8,9),['D','E','H','B','I','F','G','A','C'])\n",
    "plt.axvline(x=2.5,color='black')\n",
    "plt.axvline(x=4.5,color='black')\n",
    "plt.axvline(x=6.5,color='black')\n",
    "plt.axvline(x=7.5,color='black')\n",
    "plt.xlabel('Ortsnetzstationen')\n",
    "plt.ylabel('Variationskoeffizient')\n",
    "plt.legend(['Winter','Übergangszeit','Sommer'])\n",
    "plt.savefig('stoch_ana_vk.pdf',bbox_inches='tight')"
   ]
  }
 ],
 "metadata": {
  "kernelspec": {
   "display_name": "Python 3.9.12 ('base')",
   "language": "python",
   "name": "python3"
  },
  "language_info": {
   "name": "python",
   "version": "3.9.12"
  },
  "orig_nbformat": 4,
  "vscode": {
   "interpreter": {
    "hash": "ad2bdc8ecc057115af97d19610ffacc2b4e99fae6737bb82f5d7fb13d2f2c186"
   }
  }
 },
 "nbformat": 4,
 "nbformat_minor": 2
}
