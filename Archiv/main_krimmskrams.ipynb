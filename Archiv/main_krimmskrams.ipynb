{
 "cells": [
  {
   "cell_type": "code",
   "execution_count": null,
   "metadata": {},
   "outputs": [],
   "source": [
    "from sklearn.linear_model import LogisticRegression\n",
    "x = np.arange(10).reshape(-1, 1)\n",
    "y = np.array([0, 0, 0, 0, 1, 1, 1, 1, 1, 1])\n",
    "\n",
    "\n",
    "clf = LogisticRegression(random_state=0).fit(x, y)\n",
    "z=np.linspace(0,10,21).reshape(-1, 1)\n",
    "A=clf.predict_proba(z)\n",
    "#clf.predict(X[:2, :])\n",
    "plt.rcParams.update({\n",
    "    \"text.usetex\": True,\n",
    "    \"font.family\": \"serif\",\n",
    "    \"font.size\": '16'\n",
    "})\n",
    "plt.figure(figsize=(12.8,4.8))\n",
    "plt.plot(z,A[:,1])\n",
    "plt.scatter(x,y)\n",
    "plt.legend(['Logistische Funktion','Entscheidungen'])\n",
    "plt.savefig('Logistic_Function.pdf',bbox_inches='tight')"
   ]
  }
 ],
 "metadata": {
  "kernelspec": {
   "display_name": "Python 3.9.12 ('base')",
   "language": "python",
   "name": "python3"
  },
  "language_info": {
   "name": "python",
   "version": "3.9.12"
  },
  "orig_nbformat": 4,
  "vscode": {
   "interpreter": {
    "hash": "ad2bdc8ecc057115af97d19610ffacc2b4e99fae6737bb82f5d7fb13d2f2c186"
   }
  }
 },
 "nbformat": 4,
 "nbformat_minor": 2
}
