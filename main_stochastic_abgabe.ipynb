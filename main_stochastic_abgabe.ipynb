{
 "cells": [
  {
   "cell_type": "markdown",
   "metadata": {},
   "source": [
    "Jupyter-Notebook zum Testen des stochastischen Lastmodells"
   ]
  },
  {
   "cell_type": "code",
   "execution_count": null,
   "metadata": {},
   "outputs": [],
   "source": [
    "###IMPORT\n",
    "import numpy as np\n",
    "import pandas as pd\n",
    "import dataprocessing\n",
    "from stochasticmodel import StochasticLoadModel, StochasticSimulationResult\n",
    "import loaddata\n",
    "import matplotlib.pyplot as plt\n",
    "import seaborn as sns\n",
    "\n",
    "%reload_ext autoreload\n",
    "%autoreload 2"
   ]
  },
  {
   "cell_type": "markdown",
   "metadata": {},
   "source": [
    "Daten laden"
   ]
  },
  {
   "cell_type": "code",
   "execution_count": null,
   "metadata": {},
   "outputs": [],
   "source": [
    "stationen=loaddata.load_stations()\n",
    "display(stationen)"
   ]
  },
  {
   "cell_type": "code",
   "execution_count": null,
   "metadata": {},
   "outputs": [],
   "source": [
    "list_power_d, list_power_yd, list_power_ysd, list_power_ymd, list_mat_power_d, list_power_ywd, list_power_yswd, list_power_only_d = loaddata.load_data_from_measurements([0,1,2,3,4,5,6,7,8], d=True, yd=True, ysd=True,ywd=True,yswd=True)"
   ]
  },
  {
   "cell_type": "markdown",
   "metadata": {},
   "source": [
    "Stochastische Simulation"
   ]
  },
  {
   "cell_type": "code",
   "execution_count": null,
   "metadata": {},
   "outputs": [],
   "source": [
    "MAPES=np.zeros([9,3])\n",
    "all_sim=list()\n",
    "all_ref=list()\n",
    "all_res=list()\n",
    "all_mape=list()\n",
    "\n",
    "for station in range(0,9):\n",
    "    station_no = station\n",
    "    power_d = list_power_d[station_no]\n",
    "    power_yd = list_power_yd[station_no]\n",
    "    power_ysd = list_power_ysd[station_no]\n",
    "    power_ywd = list_power_ywd[station_no]\n",
    "    power_yswd = list_power_yswd[station_no]\n",
    "    data_input = [power_yswd[2018], power_yd[2018],power_yswd[2018]]\n",
    "    reference = power_yd[2018]\n",
    "    mymodel=StochasticLoadModel(normalization=[4,1,1,2],order_regression=6)\n",
    "    mymodel.parameterize(data_in=data_input,plots=False)\n",
    "    res = mymodel.simulate(n_runs=10)\n",
    "    energy_reference = 0.25*reference.sum().sum()\n",
    "    denormalized_result=mymodel.denormalize(res,new_case_4=4,energy=energy_reference,max_value=reference.max().max())\n",
    "    A, B, C, D = denormalized_result.analyze(reference,plots=False,show_tables=False, export_plots=False)\n",
    "    MAPES[station,:]=A\n",
    "    all_res.insert(len(all_res),denormalized_result)\n",
    "    all_ref.insert(len(all_ref),B)\n",
    "    all_sim.insert(len(all_sim),C)\n",
    "    all_mape.insert(len(all_mape),D)"
   ]
  }
 ],
 "metadata": {
  "kernelspec": {
   "display_name": "Python 3.9.12 ('base')",
   "language": "python",
   "name": "python3"
  },
  "language_info": {
   "codemirror_mode": {
    "name": "ipython",
    "version": 3
   },
   "file_extension": ".py",
   "mimetype": "text/x-python",
   "name": "python",
   "nbconvert_exporter": "python",
   "pygments_lexer": "ipython3",
   "version": "3.9.12"
  },
  "orig_nbformat": 4,
  "vscode": {
   "interpreter": {
    "hash": "ad2bdc8ecc057115af97d19610ffacc2b4e99fae6737bb82f5d7fb13d2f2c186"
   }
  }
 },
 "nbformat": 4,
 "nbformat_minor": 2
}
