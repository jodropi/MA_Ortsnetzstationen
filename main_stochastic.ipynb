{
 "cells": [
  {
   "cell_type": "code",
   "execution_count": 1,
   "metadata": {},
   "outputs": [],
   "source": [
    "###IMPORT\n",
    "import numpy as np\n",
    "import pandas as pd\n",
    "import dataprocessing\n",
    "from stochasticmodel import StochasticLoadModel, StochasticSimulationResult\n",
    "import loaddata\n",
    "import matplotlib.pyplot as plt\n",
    "import seaborn as sns\n",
    "\n",
    "%reload_ext autoreload\n",
    "%autoreload 2\n",
    "\n",
    "plt.rcParams.update({\n",
    "    \"text.usetex\": True,\n",
    "    \"font.family\": \"serif\",\n",
    "    \"font.size\": '16'\n",
    "})"
   ]
  },
  {
   "cell_type": "code",
   "execution_count": 2,
   "metadata": {},
   "outputs": [
    {
     "data": {
      "text/html": [
       "<div>\n",
       "<style scoped>\n",
       "    .dataframe tbody tr th:only-of-type {\n",
       "        vertical-align: middle;\n",
       "    }\n",
       "\n",
       "    .dataframe tbody tr th {\n",
       "        vertical-align: top;\n",
       "    }\n",
       "\n",
       "    .dataframe thead th {\n",
       "        text-align: right;\n",
       "    }\n",
       "</style>\n",
       "<table border=\"1\" class=\"dataframe\">\n",
       "  <thead>\n",
       "    <tr style=\"text-align: right;\">\n",
       "      <th></th>\n",
       "      <th>Name</th>\n",
       "      <th>Hausanschluesse</th>\n",
       "      <th>Leistung</th>\n",
       "      <th>Cluster</th>\n",
       "      <th>Kurzname</th>\n",
       "      <th>Zaehler</th>\n",
       "      <th>LeistungproHA</th>\n",
       "      <th>LeistungproZaehler</th>\n",
       "      <th>ZaehlerproHA</th>\n",
       "    </tr>\n",
       "  </thead>\n",
       "  <tbody>\n",
       "    <tr>\n",
       "      <th>0</th>\n",
       "      <td>Durchholz</td>\n",
       "      <td>73</td>\n",
       "      <td>400</td>\n",
       "      <td>W4</td>\n",
       "      <td>A</td>\n",
       "      <td>99</td>\n",
       "      <td>5.479452</td>\n",
       "      <td>4.040404</td>\n",
       "      <td>1.356164</td>\n",
       "    </tr>\n",
       "    <tr>\n",
       "      <th>1</th>\n",
       "      <td>Guennemannshof</td>\n",
       "      <td>62</td>\n",
       "      <td>400</td>\n",
       "      <td>W1</td>\n",
       "      <td>B</td>\n",
       "      <td>72</td>\n",
       "      <td>6.451613</td>\n",
       "      <td>5.555556</td>\n",
       "      <td>1.161290</td>\n",
       "    </tr>\n",
       "    <tr>\n",
       "      <th>2</th>\n",
       "      <td>Kaemperfeld</td>\n",
       "      <td>24</td>\n",
       "      <td>630</td>\n",
       "      <td>W3</td>\n",
       "      <td>C</td>\n",
       "      <td>40</td>\n",
       "      <td>26.250000</td>\n",
       "      <td>15.750000</td>\n",
       "      <td>1.666667</td>\n",
       "    </tr>\n",
       "    <tr>\n",
       "      <th>3</th>\n",
       "      <td>Lutherplatz</td>\n",
       "      <td>53</td>\n",
       "      <td>630</td>\n",
       "      <td>S</td>\n",
       "      <td>D</td>\n",
       "      <td>394</td>\n",
       "      <td>11.886792</td>\n",
       "      <td>1.598985</td>\n",
       "      <td>7.433962</td>\n",
       "    </tr>\n",
       "    <tr>\n",
       "      <th>4</th>\n",
       "      <td>Marienhospital alt</td>\n",
       "      <td>43</td>\n",
       "      <td>630</td>\n",
       "      <td>S</td>\n",
       "      <td>E</td>\n",
       "      <td>382</td>\n",
       "      <td>14.651163</td>\n",
       "      <td>1.649215</td>\n",
       "      <td>8.883721</td>\n",
       "    </tr>\n",
       "    <tr>\n",
       "      <th>5</th>\n",
       "      <td>Querweg</td>\n",
       "      <td>26</td>\n",
       "      <td>400</td>\n",
       "      <td>W2</td>\n",
       "      <td>F</td>\n",
       "      <td>50</td>\n",
       "      <td>15.384615</td>\n",
       "      <td>8.000000</td>\n",
       "      <td>1.923077</td>\n",
       "    </tr>\n",
       "    <tr>\n",
       "      <th>6</th>\n",
       "      <td>Rehnocken 1</td>\n",
       "      <td>19</td>\n",
       "      <td>200</td>\n",
       "      <td>W2</td>\n",
       "      <td>G</td>\n",
       "      <td>34</td>\n",
       "      <td>10.526316</td>\n",
       "      <td>5.882353</td>\n",
       "      <td>1.789474</td>\n",
       "    </tr>\n",
       "    <tr>\n",
       "      <th>7</th>\n",
       "      <td>Rudolf-Koenig-Strasse</td>\n",
       "      <td>40</td>\n",
       "      <td>630</td>\n",
       "      <td>S</td>\n",
       "      <td>H</td>\n",
       "      <td>315</td>\n",
       "      <td>15.750000</td>\n",
       "      <td>2.000000</td>\n",
       "      <td>7.875000</td>\n",
       "    </tr>\n",
       "    <tr>\n",
       "      <th>8</th>\n",
       "      <td>Schule Durchholz</td>\n",
       "      <td>53</td>\n",
       "      <td>400</td>\n",
       "      <td>W1</td>\n",
       "      <td>I</td>\n",
       "      <td>90</td>\n",
       "      <td>7.547170</td>\n",
       "      <td>4.444444</td>\n",
       "      <td>1.698113</td>\n",
       "    </tr>\n",
       "  </tbody>\n",
       "</table>\n",
       "</div>"
      ],
      "text/plain": [
       "                    Name  Hausanschluesse  Leistung Cluster Kurzname  Zaehler  \\\n",
       "0              Durchholz               73       400      W4        A       99   \n",
       "1         Guennemannshof               62       400      W1        B       72   \n",
       "2            Kaemperfeld               24       630      W3        C       40   \n",
       "3            Lutherplatz               53       630       S        D      394   \n",
       "4     Marienhospital alt               43       630       S        E      382   \n",
       "5                Querweg               26       400      W2        F       50   \n",
       "6            Rehnocken 1               19       200      W2        G       34   \n",
       "7  Rudolf-Koenig-Strasse               40       630       S        H      315   \n",
       "8       Schule Durchholz               53       400      W1        I       90   \n",
       "\n",
       "   LeistungproHA  LeistungproZaehler  ZaehlerproHA  \n",
       "0       5.479452            4.040404      1.356164  \n",
       "1       6.451613            5.555556      1.161290  \n",
       "2      26.250000           15.750000      1.666667  \n",
       "3      11.886792            1.598985      7.433962  \n",
       "4      14.651163            1.649215      8.883721  \n",
       "5      15.384615            8.000000      1.923077  \n",
       "6      10.526316            5.882353      1.789474  \n",
       "7      15.750000            2.000000      7.875000  \n",
       "8       7.547170            4.444444      1.698113  "
      ]
     },
     "metadata": {},
     "output_type": "display_data"
    }
   ],
   "source": [
    "stationen=loaddata.load_stations()\n",
    "display(stationen)"
   ]
  },
  {
   "cell_type": "code",
   "execution_count": 3,
   "metadata": {},
   "outputs": [
    {
     "name": "stdout",
     "output_type": "stream",
     "text": [
      "Lade Daten von Station  Durchholz\n",
      "Lade Daten von Station  Guennemannshof\n",
      "Lade Daten von Station  Kaemperfeld\n",
      "Lade Daten von Station  Lutherplatz\n",
      "Lade Daten von Station  Marienhospital alt\n",
      "Lade Daten von Station  Querweg\n",
      "Lade Daten von Station  Rehnocken 1\n",
      "Lade Daten von Station  Rudolf-Koenig-Strasse\n",
      "Lade Daten von Station  Schule Durchholz\n"
     ]
    }
   ],
   "source": [
    "list_power_d, list_power_yd, list_power_ysd, list_power_ymd, list_mat_power_d, list_power_ywd, list_power_yswd, list_power_only_d = loaddata.load_data_from_measurements([0,1,2,3,4,5,6,7,8], d=True, yd=True, ysd=True,ywd=True,yswd=True)"
   ]
  },
  {
   "cell_type": "code",
   "execution_count": null,
   "metadata": {},
   "outputs": [],
   "source": [
    "#plt.figure(figsize=(20,10))\n",
    "\n",
    "tages1=df[0].T.to_numpy()\n",
    "tages2=df[1].T.to_numpy()\n",
    "tages3=df[2].T.to_numpy()\n",
    "\n",
    "plt.plot(tages1.T,alpha=0.5,linewidth=0.5,color='tab:blue')\n",
    "plt.plot(tages2.T,alpha=0.5,linewidth=0.5,color='tab:green')\n",
    "plt.plot(tages3.T,alpha=0.5,linewidth=0.5,color='tab:red')\n",
    "plt.plot(tages1[10,:],linewidth=3,color='black')\n",
    "plt.plot(tages3[10,:],linewidth=3,color='black')\n",
    "plt.ylabel('Leistung [kW]')\n",
    "plt.xlabel('Zeit [h]')\n",
    "plt.xticks(np.arange(0,108, step=12),np.arange(0,25, step=3))\n",
    "#plt.savefig('export/Ueberlagerung.pdf',bbox_inches='tight')"
   ]
  },
  {
   "cell_type": "code",
   "execution_count": null,
   "metadata": {},
   "outputs": [],
   "source": [
    "X=list_power_d[3][0,0].iloc[:,10].to_numpy()\n",
    "Y=list_power_d[3][0,2].iloc[:,25].to_numpy()"
   ]
  },
  {
   "cell_type": "code",
   "execution_count": null,
   "metadata": {},
   "outputs": [],
   "source": [
    "plt.plot(X)\n",
    "plt.plot(Y)"
   ]
  },
  {
   "cell_type": "code",
   "execution_count": null,
   "metadata": {},
   "outputs": [],
   "source": [
    "maxwert=list_power_yd[6][2018].max().max()\n",
    "df=list_power_yd[6][2018]/maxwert"
   ]
  },
  {
   "cell_type": "code",
   "execution_count": null,
   "metadata": {},
   "outputs": [],
   "source": [
    "X=np.linspace(0,364,365)\n",
    "plt.plot(X,df.max().to_numpy())"
   ]
  },
  {
   "cell_type": "code",
   "execution_count": null,
   "metadata": {},
   "outputs": [],
   "source": [
    "MAPES=np.zeros([9,3])\n",
    "all_sim=list()\n",
    "all_ref=list()\n",
    "all_res=list()\n",
    "all_mape=list()\n",
    "\n",
    "for station in range(0,9):\n",
    "    station_no = station\n",
    "    power_d = list_power_d[station_no]\n",
    "    power_yd = list_power_yd[station_no]\n",
    "    power_ysd = list_power_ysd[station_no]\n",
    "    power_ywd = list_power_ywd[station_no]\n",
    "    power_yswd = list_power_yswd[station_no]\n",
    "    data_input = [power_yswd[2018], power_yd[2018],power_yswd[2018]]\n",
    "    reference = power_yd[2018]     #list_power_only_d[1].iloc[:,177:542]\n",
    "    mymodel=StochasticLoadModel(normalization=[4,1,1,2],order_regression=6)                 #[4,0,1,2]\n",
    "    mymodel.parameterize(data_in=data_input,plots=False)\n",
    "    res = mymodel.simulate(n_runs=1)\n",
    "    energy_reference = 0.25*reference.sum().sum()\n",
    "    denormalized_result=mymodel.denormalize(res,new_case_4=4,energy=energy_reference,max_value=reference.max().max())\n",
    "    A, B, C, D = denormalized_result.analyze(reference,plots=False,show_tables=False, export_plots=False)\n",
    "    MAPES[station,:]=A\n",
    "    all_res.insert(len(all_res),denormalized_result)\n",
    "    all_ref.insert(len(all_ref),B)\n",
    "    all_sim.insert(len(all_sim),C)\n",
    "    all_mape.insert(len(all_mape),D)"
   ]
  },
  {
   "cell_type": "code",
   "execution_count": null,
   "metadata": {},
   "outputs": [],
   "source": [
    "i = 0\n",
    "#denormalized_result=mymodel.denormalize(res,new_case_4=5,energy=energy_reference,max_value=reference.max().max())\n",
    "#A1,A2,A3,A4=denormalized_result.analyze(all_ref_[i],plots=True,show_tables=False, export_plots=False, filename_plots='')\n",
    "A1,A2,A3,A4=all_res[i].analyze(all_ref[i],plots=True,show_tables=False, export_plots=True, filename_plots='Station_D_Zehn')"
   ]
  },
  {
   "cell_type": "code",
   "execution_count": null,
   "metadata": {},
   "outputs": [],
   "source": [
    "MAPES_=np.zeros([9,3])\n",
    "all_sim_=list()\n",
    "all_ref_=list()\n",
    "all_res_=list()\n",
    "all_mape_=list()\n",
    "\n",
    "for station in range(0,1):\n",
    "    station_no = station\n",
    "    power_d = list_power_d[station_no]\n",
    "    power_yd = list_power_yd[station_no]\n",
    "    power_ysd = list_power_ysd[station_no]\n",
    "    power_ywd = list_power_ywd[station_no]\n",
    "    power_yswd = list_power_yswd[station_no]\n",
    "    data_input = [power_yswd[2018], power_yd[2018],power_yswd[2018]]\n",
    "    reference = power_yd[2018]     #list_power_only_d[1].iloc[:,177:542]\n",
    "    mymodel=StochasticLoadModel(normalization=[4,1,1,2],order_regression=6)                 #[4,0,1,2]\n",
    "    mymodel.parameterize(data_in=data_input,plots=False)\n",
    "    res = mymodel.simulate(n_runs=1)\n",
    "    energy_reference = 0.25*reference.sum().sum()\n",
    "    denormalized_result=mymodel.denormalize(res,new_case_4=5,energy=energy_reference,max_value=reference.max().max())\n",
    "    A, B, C, D = denormalized_result.analyze(reference,plots=False,show_tables=False, export_plots=False)\n",
    "    MAPES_[station,:]=A\n",
    "    all_res_.insert(len(all_res_),denormalized_result)\n",
    "    all_ref_.insert(len(all_ref_),B)\n",
    "    all_sim_.insert(len(all_sim_),C)\n",
    "    all_mape_.insert(len(all_mape_),D)"
   ]
  },
  {
   "cell_type": "code",
   "execution_count": null,
   "metadata": {},
   "outputs": [],
   "source": [
    "i = 0\n",
    "denormalized_result=mymodel.denormalize(res,new_case_4=5,energy=energy_reference,max_value=reference.max().max())\n",
    "A1,A2,A3,A4=denormalized_result.analyze(all_ref_[i],plots=True,show_tables=False, export_plots=False, filename_plots='')\n",
    "#A1,A2,A3,A4=all_res_[i].analyze(all_ref_[i],plots=True,show_tables=False, export_plots=False, filename_plots='')"
   ]
  },
  {
   "cell_type": "code",
   "execution_count": null,
   "metadata": {},
   "outputs": [],
   "source": [
    "df=pd.DataFrame()\n",
    "for i in [0,1,3,4,5,6,7,8]:\n",
    "    df[str(i)]=all_mape[i]"
   ]
  },
  {
   "cell_type": "code",
   "execution_count": null,
   "metadata": {},
   "outputs": [],
   "source": [
    "plt.figure(figsize=(19.2,9.6))\n",
    "sns.boxplot(data=df,width=0.5,color='tab:blue')"
   ]
  },
  {
   "cell_type": "code",
   "execution_count": null,
   "metadata": {},
   "outputs": [],
   "source": [
    "mi=pd.MultiIndex.from_product([np.arange(0,9,1), ['Simulation','Messdaten']])"
   ]
  },
  {
   "cell_type": "code",
   "execution_count": null,
   "metadata": {},
   "outputs": [],
   "source": [
    "max_vec_s=np.zeros([365,9])\n",
    "max_vec_m=np.zeros([365,9])\n",
    "for i in range(0,9):\n",
    "    max_vec_s[:,i]=np.min(np.reshape(all_sim[i],[365,96],order='F'),axis=1)\n",
    "    max_vec_m[:,i]=np.min(np.reshape(all_ref[i],[365,96],order='F'),axis=1)"
   ]
  },
  {
   "cell_type": "code",
   "execution_count": null,
   "metadata": {},
   "outputs": [],
   "source": [
    "times=np.arange(0,365,1)\n",
    "allmax=pd.DataFrame(index=times,columns=mi)\n",
    "for station in range(0,9):\n",
    "    allmax[station,'Simulation']=max_vec_s[:,station]\n",
    "    allmax[station,'Messdaten']=max_vec_m[:,station]\n",
    "allmaxlong=allmax.stack(level=[0,1]).reset_index(level=0, drop=True).reset_index()"
   ]
  },
  {
   "cell_type": "code",
   "execution_count": null,
   "metadata": {},
   "outputs": [],
   "source": [
    "plt.rcParams.update({\n",
    "    \"text.usetex\": True,\n",
    "    \"font.family\": \"serif\",\n",
    "    \"font.size\": '28'\n",
    "})\n",
    "#plt.figure(figsize=(19.2,9.6))\n",
    "this_fig, this_ax=plt.subplots(figsize=(19.2,9.6))\n",
    "sns.boxplot(x='level_0',y=0, data=allmaxlong, hue=\"level_1\",width=0.5,hue_order=['Simulation','Messdaten'])\n",
    "plt.xlabel('Ortsnetzsationen')\n",
    "plt.ylabel('Leistung [kW]')\n",
    "plt.xticks(np.arange(0,9,1),['A','B','C','D','E','F','G','H','I'])\n",
    "\n",
    "handles, labels = this_ax.get_legend_handles_labels()\n",
    "plt.legend(handles=handles[0:], labels=labels[0:])\n",
    "plt.savefig('export/Boxplot_Alle_Minimalwerte.pdf',bbox_inches='tight')"
   ]
  },
  {
   "cell_type": "code",
   "execution_count": null,
   "metadata": {},
   "outputs": [],
   "source": [
    "times=np.arange(0,35040,1)"
   ]
  },
  {
   "cell_type": "code",
   "execution_count": null,
   "metadata": {},
   "outputs": [],
   "source": [
    "alldata=pd.DataFrame(index=times,columns=mi)\n",
    "allmax=pd.DataFrame()"
   ]
  },
  {
   "cell_type": "code",
   "execution_count": null,
   "metadata": {},
   "outputs": [],
   "source": [
    "for station in range(0,9):\n",
    "    alldata[station,'Simulation']=all_sim[station]\n",
    "    alldata[station,'Messdaten']=all_ref[station]"
   ]
  },
  {
   "cell_type": "code",
   "execution_count": null,
   "metadata": {},
   "outputs": [],
   "source": [
    "alllong=alldata.stack(level=[0,1]).reset_index(level=0, drop=True).reset_index()"
   ]
  },
  {
   "cell_type": "code",
   "execution_count": null,
   "metadata": {},
   "outputs": [],
   "source": [
    "\n",
    "plt.rcParams.update({\n",
    "    \"text.usetex\": True,\n",
    "    \"font.family\": \"serif\",\n",
    "    \"font.size\": '28'\n",
    "})\n",
    "#plt.figure(figsize=(19.2,9.6))\n",
    "this_fig, this_ax=plt.subplots(figsize=(19.2,9.6))\n",
    "sns.boxplot(x='level_0',y=0, data=alllong, hue=\"level_1\",width=0.5,hue_order=['Simulation','Messdaten'])\n",
    "plt.xlabel('Ortsnetzsationen')\n",
    "plt.ylabel('Leistung [kW]')\n",
    "plt.xticks(np.arange(0,9,1),['A','B','C','D','E','F','G','H','I'])\n",
    "\n",
    "handles, labels = this_ax.get_legend_handles_labels()\n",
    "plt.legend(handles=handles[0:], labels=labels[0:])\n",
    "plt.savefig('Boxplot_Spektrum.pdf',bbox_inches='tight')"
   ]
  },
  {
   "cell_type": "code",
   "execution_count": null,
   "metadata": {},
   "outputs": [],
   "source": [
    "station_no = 3\n",
    "power_d = list_power_d[station_no]\n",
    "power_yd = list_power_yd[station_no]\n",
    "power_ysd = list_power_ysd[station_no]\n",
    "power_ywd = list_power_ywd[station_no]\n",
    "power_yswd = list_power_yswd[station_no]\n",
    "data_input = [power_yswd[2018], power_yd[2018],power_yswd[2018]]\n",
    "reference = power_yd[2018]     #list_power_only_d[1].iloc[:,177:542]"
   ]
  },
  {
   "cell_type": "code",
   "execution_count": null,
   "metadata": {},
   "outputs": [],
   "source": [
    "gruppe=[3,4,7]\n",
    "gesamt_df=list()\n",
    "\"\"\"\n",
    "count=0\n",
    "for i in gruppe:\n",
    "    df=list_power_yswd[i][2018]\n",
    "    normed=df/df.max().max()\n",
    "    if count == 0:\n",
    "        group_df=normed\n",
    "    else:\n",
    "        group_df=group_df+normed\n",
    "    count=count+1\n",
    "group_df=group_df/3\n",
    "#    gesamt_df.insert(len(gesamt_df),normed)\n",
    "data_input=[group_df,df,group_df]\n",
    "\"\"\"\n",
    "for i in gruppe:\n",
    "    df=list_power_yswd[i][2018]\n",
    "    normed=df/df.max().max()\n",
    "    gesamt_df.insert(len(gesamt_df),normed)\n",
    "\n",
    "\n",
    "new_df=gesamt_df[0]\n",
    "for j in range(1,len(gesamt_df)):\n",
    "    new_df=pd.concat([new_df,gesamt_df[j]],axis=1,levels=['Jahreszeit'])\n",
    "\n",
    "new_df1=new_df.copy()\n",
    "\n",
    "\n",
    "#gruppe=[4,7]\n",
    "gesamt_df=list()\n",
    "df3=list_power_yd[3][2018]/list_power_yd[3][2018].max().max()\n",
    "df4=list_power_yd[4][2018]/list_power_yd[4][2018].max().max()\n",
    "df7=list_power_yd[7][2018]/list_power_yd[7][2018].max().max()\n",
    "df=df3+df4+df7\n",
    "df=df/3\n",
    "\n",
    "data_input=[new_df1,df,new_df1]"
   ]
  },
  {
   "cell_type": "markdown",
   "metadata": {},
   "source": [
    "Parametrisierung"
   ]
  },
  {
   "cell_type": "code",
   "execution_count": null,
   "metadata": {},
   "outputs": [],
   "source": [
    "mymodel=StochasticLoadModel(normalization=[4,1,1,2],order_regression=6)                 #[4,0,1,2]\n",
    "mymodel.parameterize(data_in=data_input,plots=False)"
   ]
  },
  {
   "cell_type": "code",
   "execution_count": null,
   "metadata": {},
   "outputs": [],
   "source": [
    "res = mymodel.simulate(n_runs=10)"
   ]
  },
  {
   "cell_type": "code",
   "execution_count": null,
   "metadata": {},
   "outputs": [],
   "source": [
    "reference = list_power_yd[3][2018] \n",
    "energy_reference = 0.25*reference.sum().sum()\n",
    "denormalized_result=mymodel.denormalize(res,new_case_4=4,energy=energy_reference,max_value=reference.max().max())\n",
    "A, B, C, D = denormalized_result.analyze(reference,show_tables=False, export_plots=False,filename_plots='unbekannt_gruppe')"
   ]
  },
  {
   "cell_type": "code",
   "execution_count": null,
   "metadata": {},
   "outputs": [],
   "source": [
    "station_no = 2\n",
    "power_d = list_power_d[station_no]\n",
    "power_yd = list_power_yd[station_no]\n",
    "power_ysd = list_power_ysd[station_no]\n",
    "power_ywd = list_power_ywd[station_no]\n",
    "power_yswd = list_power_yswd[station_no]\n",
    "data_input = [power_yswd[2018], power_yd[2018],power_yswd[2018]]\n",
    "\n",
    "mymodel7=StochasticLoadModel(normalization=[4,1,1,2],order_regression=6)                 #[4,0,1,2]\n",
    "mymodel7.parameterize(data_in=data_input,plots=False)\n",
    "res7 = mymodel7.simulate(n_runs=1)"
   ]
  },
  {
   "cell_type": "code",
   "execution_count": null,
   "metadata": {},
   "outputs": [],
   "source": [
    "reference = list_power_only_d[station_no].iloc[:,177:542]\n",
    "#reference = list_power_yd[1][2018]\n",
    "energy_reference = 0.25*reference.sum().sum()\n",
    "denormalized_result=mymodel7.denormalize(res7,new_case_4=4,energy=energy_reference,max_value=reference.max().max())\n",
    "A, B, C, D = denormalized_result.analyze(reference,show_tables=False, export_plots=False,filename_plots='unbekannt_gruppe')"
   ]
  },
  {
   "cell_type": "code",
   "execution_count": null,
   "metadata": {},
   "outputs": [],
   "source": [
    "maxwert=power_ysd[2018].max().max()\n",
    "typedays_1 = power_ysd[2018]/maxwert\n",
    "typedays_2={}\n",
    "for season in range(0,3):\n",
    "    for weekday in range(0,3):\n",
    "        typedays_2[season,weekday]=typedays_1.loc[:,season].loc[:,weekday].mean(axis=1).to_numpy()"
   ]
  },
  {
   "cell_type": "markdown",
   "metadata": {},
   "source": [
    "Denormalisierung"
   ]
  },
  {
   "cell_type": "markdown",
   "metadata": {},
   "source": [
    "Gruppen"
   ]
  },
  {
   "cell_type": "code",
   "execution_count": null,
   "metadata": {},
   "outputs": [],
   "source": [
    "\"\"\"\n",
    "gruppe=[3,4,7]\n",
    "gesamt_df=list()\n",
    "for i in gruppe:\n",
    "    df=list_power_yswd[i][2018]\n",
    "    normed=df/df.max().max()\n",
    "    gesamt_df.insert(len(gesamt_df),normed)\n",
    "\n",
    "new_df=gesamt_df[0]\n",
    "for j in range(1,len(gesamt_df)):\n",
    "    new_df=pd.concat([new_df,gesamt_df[j]],axis=1,levels=['Jahreszeit'])\n",
    "\n",
    "new_df1=new_df.copy()\n",
    "\n",
    "gruppe=[4,7]\n",
    "gesamt_df=list()\n",
    "df3=list_power_yd[3][2018]/list_power_yd[3][2018].max().max()\n",
    "df4=list_power_yd[4][2018]/list_power_yd[4][2018].max().max()\n",
    "df7=list_power_yd[7][2018]/list_power_yd[7][2018].max().max()\n",
    "df=df3+df4+df7\n",
    "df=df/3\n",
    "\n",
    "data_input=[new_df1,df,new_df1]\n",
    "\"\"\""
   ]
  },
  {
   "cell_type": "markdown",
   "metadata": {},
   "source": [
    "Fragmente"
   ]
  },
  {
   "cell_type": "code",
   "execution_count": null,
   "metadata": {},
   "outputs": [],
   "source": [
    "#tages_messdaten=list_power_d[3][2018].T.to_numpy()\n",
    "i=7\n",
    "df=(list_power_ysd[i][2018].T-list_power_ysd[i][2018].min(axis=1))/(list_power_ysd[i][2018].max(axis=1)-list_power_ysd[i][2018].min(axis=1))\n",
    "df=df.T\n",
    "season=2\n",
    "tages1=list_power_ysd[3][2018][season].T.to_numpy()/list_power_ysd[3][2018][0].max().max()\n",
    "tages2=list_power_ysd[4][2018][season].T.to_numpy()/list_power_ysd[4][2018][0].max().max()\n",
    "tages3=list_power_ysd[7][2018][season].T.to_numpy()/list_power_ysd[7][2018][0].max().max()\n",
    "tages=(tages1+tages2+tages3)/3\n",
    "plt.plot(tages.T,alpha=0.5,linewidth=0.5,color='tab:blue')\n",
    "plt.plot(tages1.T,alpha=0.5,linewidth=0.5,color='tab:green')\n",
    "plt.plot(tages2.T,alpha=0.5,linewidth=0.5,color='tab:green')\n",
    "#plt.plot(tages3.T,alpha=0.5,linewidth=0.5,color='tab:red')\n",
    "#plt.plot(tages3[10,:],linewidth=3,color='black')\n",
    "#plt.plot(tages3[120,:],linewidth=3,color='black')\n",
    "plt.ylabel('Leistung [kW]')\n",
    "plt.xlabel('Zeit [h]')\n",
    "plt.xticks(np.arange(0,108, step=12),np.arange(0,25, step=3))\n",
    "#plt.savefig('export/Ueberlagerung.pdf',bbox_inches='tight')"
   ]
  },
  {
   "cell_type": "code",
   "execution_count": null,
   "metadata": {},
   "outputs": [],
   "source": [
    "pquer=mw[1]\n",
    "pvor=mw[0]\n",
    "pnach=mw[2]\n",
    "pdelta=pnach-pvor\n",
    "d=55\n",
    "\n",
    "A=[[d**2, d],[(2*d+1)*(d+1)/6, (d+1)/2]]\n",
    "invA=np.linalg.inv(A)\n",
    "RHS=[[pnach-pvor],[pquer-pvor]]\n",
    "coeff=np.dot(invA,RHS)\n",
    "a=coeff[0]\n",
    "b=coeff[1]\n",
    "c=pvor\n",
    "\n",
    "mypoly=np.poly1d([a,b,c])\n",
    "X=np.linspace(0,55,56)\n",
    "Y=mypoly(X)\n",
    "plt.plot(X,Y)\n",
    "Z=Y/pquer\n",
    "plt.plot(X,Z)"
   ]
  },
  {
   "cell_type": "code",
   "execution_count": null,
   "metadata": {},
   "outputs": [],
   "source": [
    "pquer=mw[1]\n",
    "pvor=mw[2]\n",
    "pnach=mw[0]\n",
    "pdelta=pnach-pvor\n",
    "d=47\n",
    "\n",
    "A=[[d**2, d],[(2*d+1)*(d+1)/6, (d+1)/2]]\n",
    "invA=np.linalg.inv(A)\n",
    "RHS=[[pnach-pvor],[pquer-pvor]]\n",
    "coeff=np.dot(invA,RHS)\n",
    "a=coeff[0]\n",
    "b=coeff[1]\n",
    "c=pvor\n",
    "\n",
    "mypoly=np.poly1d([a,b,c])\n",
    "X=np.linspace(0,55,56)\n",
    "Y=mypoly(X)\n",
    "plt.plot(X,Y)"
   ]
  },
  {
   "cell_type": "code",
   "execution_count": null,
   "metadata": {},
   "outputs": [],
   "source": [
    "\"\"\"\n",
    "E_0=np.zeros(9)\n",
    "E_1=np.zeros(9)\n",
    "E_2=np.zeros(9)\n",
    "E_mean=np.zeros(9)\n",
    "for i in range(0,9):\n",
    "    E_0[i]=0.25*list_power_ywd[i][2018].loc[:,0].sum(axis=0).mean()\n",
    "    E_1[i]=0.25*list_power_ywd[i][2018].loc[:,1].sum(axis=0).mean()\n",
    "    E_2[i]=0.25*list_power_ywd[i][2018].loc[:,2].sum(axis=0).mean()\n",
    "    E_mean[i]=0.25*list_power_ywd[i][2018].sum(axis=0).mean()\n",
    "\n",
    "factors_0=np.ones(9)\n",
    "factors_1=np.ones(9)\n",
    "factors_2=np.ones(9)\n",
    "for i in range(0,9):\n",
    "    factors_0[i]=E_0[i]/E_mean[i]\n",
    "    factors_1[i]=E_1[i]/E_mean[i]\n",
    "    factors_2[i]=E_2[i]/E_mean[i]\n",
    "\n",
    "plt.figure()\n",
    "plt.scatter([7,3,8,0,1,5,6,2,4],E_0)\n",
    "plt.scatter([7,3,8,0,1,5,6,2,4],E_1)\n",
    "plt.scatter([7,3,8,0,1,5,6,2,4],E_2)\n",
    "plt.xticks(np.linspace(0,8,9),['D','E','H','B','I','F','G','A','C'])\n",
    "plt.figure()\n",
    "plt.scatter([7,3,8,0,1,5,6,2,4],factors_0)\n",
    "plt.scatter([7,3,8,0,1,5,6,2,4],factors_1)\n",
    "plt.scatter([7,3,8,0,1,5,6,2,4],factors_2)\n",
    "plt.xticks(np.linspace(0,8,9),['D','E','H','B','I','F','G','A','C'])\n",
    "\"\"\""
   ]
  },
  {
   "cell_type": "code",
   "execution_count": null,
   "metadata": {},
   "outputs": [],
   "source": []
  }
 ],
 "metadata": {
  "kernelspec": {
   "display_name": "Python 3.9.12 ('base')",
   "language": "python",
   "name": "python3"
  },
  "language_info": {
   "codemirror_mode": {
    "name": "ipython",
    "version": 3
   },
   "file_extension": ".py",
   "mimetype": "text/x-python",
   "name": "python",
   "nbconvert_exporter": "python",
   "pygments_lexer": "ipython3",
   "version": "3.9.12"
  },
  "orig_nbformat": 4,
  "vscode": {
   "interpreter": {
    "hash": "ad2bdc8ecc057115af97d19610ffacc2b4e99fae6737bb82f5d7fb13d2f2c186"
   }
  }
 },
 "nbformat": 4,
 "nbformat_minor": 2
}
