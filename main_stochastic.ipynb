{
 "cells": [
  {
   "cell_type": "code",
   "execution_count": null,
   "metadata": {},
   "outputs": [],
   "source": [
    "###IMPORT\n",
    "import numpy as np\n",
    "import pandas as pd\n",
    "import dataprocessing\n",
    "from stochasticmodel import StochasticLoadModel, StochasticSimulationResult\n",
    "import loadmodelingfunctions\n",
    "import loaddata\n",
    "import matplotlib.pyplot as plt\n",
    "import seaborn as sns\n",
    "\n",
    "%reload_ext autoreload\n",
    "%autoreload 2\n",
    "\n",
    "plt.rcParams.update({\n",
    "    \"text.usetex\": True,\n",
    "    \"font.family\": \"serif\",\n",
    "    \"font.size\": '16'\n",
    "})"
   ]
  },
  {
   "cell_type": "markdown",
   "metadata": {},
   "source": [
    "Daten laden"
   ]
  },
  {
   "cell_type": "code",
   "execution_count": null,
   "metadata": {},
   "outputs": [],
   "source": [
    "stationen=loaddata.load_stations()\n",
    "display(stationen)"
   ]
  },
  {
   "cell_type": "code",
   "execution_count": null,
   "metadata": {},
   "outputs": [],
   "source": [
    "list_of_ss_groups=list()\n",
    "list_of_ss_groups.insert(len(list_of_ss_groups),[3,4,7])                #SS-S\n",
    "list_of_ss_groups.insert(len(list_of_ss_groups),[1,8])                  #SS-W1\n",
    "list_of_ss_groups.insert(len(list_of_ss_groups),[5,6])                  #SS-W2\n",
    "list_of_ss_groups.insert(len(list_of_ss_groups),[2])                    #SS-W3\n",
    "list_of_ss_groups.insert(len(list_of_ss_groups),[0])                    #SS-W4\n",
    "\n",
    "dict_group = loaddata.dict_groups()\n",
    "\n",
    "n_clusters = len(list_of_ss_groups)\n",
    "n_stations = 9\n",
    "year = 2018"
   ]
  },
  {
   "cell_type": "code",
   "execution_count": null,
   "metadata": {},
   "outputs": [],
   "source": [
    "list_power_d, list_power_yd, list_power_ysd, list_power_ymd, list_mat_power_d, list_power_ywd, list_power_yswd, list_power_only_d = loaddata.load_data_from_measurements([0,1,2,3,4,5,6,7,8], d=True, yd=True, ysd=True,ywd=True,yswd=True)"
   ]
  },
  {
   "cell_type": "markdown",
   "metadata": {},
   "source": [
    "Gruppierte Daten bilden"
   ]
  },
  {
   "cell_type": "code",
   "execution_count": null,
   "metadata": {},
   "outputs": [],
   "source": [
    "list_of_data_inputs = list()\n",
    "\n",
    "for group in range(0, n_clusters):\n",
    "    list_df_swd_group = list()\n",
    "    this_group        = list_of_ss_groups[group]\n",
    "    n_member          = len(this_group)\n",
    "\n",
    "    count = 0\n",
    "    for station in this_group:\n",
    "        this_df_yswd = list_power_yswd[station][year]\n",
    "        normed_yswd  = this_df_yswd/this_df_yswd.max().max()\n",
    "        if count == 0:\n",
    "            df_swd_group = normed_yswd.copy()\n",
    "        else:\n",
    "            df_swd_group = pd.concat([df_swd_group, normed_yswd], axis = 1, levels=['Jahreszeit'])\n",
    "        count = count + 1\n",
    "        \n",
    "    count = 0\n",
    "    for station in this_group:\n",
    "        this_df_yd = list_power_yd[station][year]\n",
    "        if count == 0:\n",
    "            df_w_group = this_df_yd.copy()\n",
    "            df_w_group = df_w_group/df_w_group.max().max()\n",
    "        else:\n",
    "            df_w_group = df_w_group + this_df_yd/this_df_yd.max().max()\n",
    "        count = count + 1\n",
    "    df_w_group = df_w_group/n_member\n",
    "    \n",
    "    this_data_input=[df_swd_group, df_w_group, df_swd_group]\n",
    "    list_of_data_inputs.insert(len(list_of_data_inputs), this_data_input)\n",
    "\n",
    "list_of_data_inputs_stations = list()\n",
    "for station in range(0, n_stations):\n",
    "    this_data_input=[list_power_d[station], list_power_yd[station][year], list_power_d[station]]\n",
    "    list_of_data_inputs_stations.insert(len(list_of_data_inputs_stations), this_data_input)\n"
   ]
  },
  {
   "cell_type": "markdown",
   "metadata": {},
   "source": [
    "Parametrisierung für Gruppen"
   ]
  },
  {
   "cell_type": "code",
   "execution_count": null,
   "metadata": {},
   "outputs": [],
   "source": [
    "list_of_models_groups = list()                 #len = n_clusters\n",
    "\n",
    "for group in range(0, n_clusters):\n",
    "    group_model = StochasticLoadModel(normalization=[4,1,1,2],order_regression=6)\n",
    "    group_model.parameterize(data_in = list_of_data_inputs[group], plots = False)\n",
    "    list_of_models_groups.insert(len(list_of_models_groups), group_model)\n",
    "    \n",
    "list_of_models_stations = list()               #len = n_stations\n",
    "\n",
    "for station in range(0, n_stations):\n",
    "    station_model = StochasticLoadModel(normalization=[4,1,1,2],order_regression=6)\n",
    "    station_model.parameterize(data_in = list_of_data_inputs_stations[station], plots = False)\n",
    "    list_of_models_stations.insert(len(list_of_models_stations), station_model)"
   ]
  },
  {
   "cell_type": "markdown",
   "metadata": {},
   "source": [
    "Simulation einzelner Ortsnetzstationen mit individueller Parametrisierung"
   ]
  },
  {
   "cell_type": "code",
   "execution_count": null,
   "metadata": {},
   "outputs": [],
   "source": [
    "list_of_references_stations = list()                 #len = n_stations\n",
    "list_of_results_stations    = list()                 #len = n_stations\n",
    "list_of_mapes_stations      = list()                 #len = n_stations\n",
    "\n",
    "n_runs = 1\n",
    "\n",
    "MAPES=np.zeros([n_stations,3])\n",
    "\n",
    "for station in range(0, n_stations):\n",
    "    power_yd             = list_power_yd[station]\n",
    "    reference_data       = power_yd[year]\n",
    "    list_of_references_stations.insert(len(list_of_references_stations), reference_data)\n",
    "    station_model        = list_of_models_stations[station]\n",
    "    result_station       = station_model.simulate(n_runs = n_runs)\n",
    "    energy_reference     = 0.25*reference_data.sum().sum()                                       #Denormalisierung nach Energie\n",
    "    denormalized_result  = station_model.denormalize(result_station, new_case_4 = 4, energy = energy_reference)\n",
    "    list_of_results_stations.insert(len(list_of_results_stations), denormalized_result)\n",
    "\n",
    "    MAPEs, _, _, daily_MPE = denormalized_result.analyze(reference_data, plots=False, show_tables=False, export_plots=False)\n",
    "    MAPES[station,:]       = MAPEs\n",
    "    list_of_mapes_stations.insert(len(list_of_mapes_stations), daily_MPE)"
   ]
  },
  {
   "cell_type": "markdown",
   "metadata": {},
   "source": [
    "Simulation einzelner Ortsnetzstationen mit Gruppen-Parametrisierung"
   ]
  },
  {
   "cell_type": "code",
   "execution_count": null,
   "metadata": {},
   "outputs": [],
   "source": [
    "list_of_references_groups = list()                 #len = n_stations\n",
    "list_of_results_groups    = list()                 #len = n_stations\n",
    "list_of_mapes_groups      = list()                 #len = n_stations\n",
    "\n",
    "n_runs = 1\n",
    "\n",
    "MAPES=np.zeros([n_stations,3])\n",
    "\n",
    "for station in range(0, n_stations):\n",
    "    group_of_the_station = stationen.loc[:, 'Cluster'].iloc[station]\n",
    "    index_of_the_group   = dict_group[group_of_the_station]\n",
    "    power_yd             = list_power_yd[station]\n",
    "    reference_data       = power_yd[year]\n",
    "    list_of_references_groups.insert(len(list_of_references_groups), reference_data)\n",
    "    station_model        = list_of_models_groups[index_of_the_group]\n",
    "    result_station       = station_model.simulate(n_runs = n_runs)\n",
    "    energy_reference     = 0.25*reference_data.sum().sum()                                       #Denormalisierung nach Energie\n",
    "    denormalized_result  = station_model.denormalize(result_station, new_case_4 = 4, energy = energy_reference)\n",
    "    list_of_results_groups.insert(len(list_of_results_groups), denormalized_result)\n",
    "\n",
    "    MAPEs, _, _, daily_MPE = denormalized_result.analyze(reference_data, plots=False, show_tables=False, export_plots=False)\n",
    "    MAPES[station,:]       = MAPEs\n",
    "    list_of_mapes_groups.insert(len(list_of_mapes_groups), daily_MPE)"
   ]
  }
 ],
 "metadata": {
  "kernelspec": {
   "display_name": "Python 3.9.12 ('base')",
   "language": "python",
   "name": "python3"
  },
  "language_info": {
   "codemirror_mode": {
    "name": "ipython",
    "version": 3
   },
   "file_extension": ".py",
   "mimetype": "text/x-python",
   "name": "python",
   "nbconvert_exporter": "python",
   "pygments_lexer": "ipython3",
   "version": "3.9.12"
  },
  "orig_nbformat": 4,
  "vscode": {
   "interpreter": {
    "hash": "ad2bdc8ecc057115af97d19610ffacc2b4e99fae6737bb82f5d7fb13d2f2c186"
   }
  }
 },
 "nbformat": 4,
 "nbformat_minor": 2
}
